{
  "cells": [
    {
      "cell_type": "markdown",
      "id": "016b9672",
      "metadata": {
        "id": "016b9672"
      },
      "source": [
        "# Energy calculator for HVAC \n",
        "\n",
        "* Import the trained model - check the file to be attached - billcal_gbr.pkl \n",
        "* feed the values - [[ , , , , , ,]]    Instruction for feeding data is below "
      ]
    },
    {
      "cell_type": "markdown",
      "id": "9fa1790a",
      "metadata": {
        "id": "9fa1790a"
      },
      "source": [
        "### Instruction for data to be feed in model to get energy consumption \n",
        "\n",
        "##### gb.predict [[Type of HVAC ,Capacity of HVAC  ,size of building ,  Weather Conditions   ,  working hours  ,    buildingtype ,  consumptionrate ]]\n",
        "\n",
        "* Type of HVAC =    AHU -          0\n",
        "                    Cassette -     1\n",
        "                    Chiller -      2\n",
        "                    Ductable -     3\n",
        "                    VRF -          4\n",
        "                    Miscellenous - 5 (any HVAC like Ductable+ VRf, chiller + AHU etc. )\n",
        " \n",
        "* Capacity of HVAC - In Tonne (Calculate the total capacity for ex - if there are two split ac in room - 1.5tonne, 2 tonne so\n",
        "                                total will be - 1.5+2 = 3.5 tonne. )\n",
        "\n",
        "* Size of Building - In square per feet\n",
        "\n",
        "\n",
        "* Weather Conditions - check which weather condition your city falls under from - https://thearchspace.com/5-different-climate-zones-in-india-and-their-important-characteristics/ \n",
        "     * Composite-  0 \n",
        "     * Hot-Dry -   1\n",
        "     * Warm-Humid- 2\n",
        "     * Temperate - 3\n",
        "     * Cold    -   4\n",
        "\n",
        "* Working hours - working hours of HVAC or building.\n",
        "\n",
        "*  Building Type - \n",
        "    * Gym -       0\n",
        "    * Hospital -  1\n",
        "    * Hotel  -    2\n",
        "    * Office -    3\n",
        "    * Retail -    4 \n",
        "    * School -    5 \n",
        "    * other -     6\n",
        "    \n",
        "* ConsumptionRate -   Bill / (working hours * size of building )  = > 2 in general. \n",
        "\n"
      ]
    },
    {
      "cell_type": "code",
      "execution_count": 1,
      "id": "d4f2652f",
      "metadata": {
        "id": "d4f2652f",
        "outputId": "3d715080-fda2-4b94-8037-6c3e3f07fd0c",
        "colab": {
          "base_uri": "https://localhost:8080/"
        }
      },
      "outputs": [
        {
          "output_type": "stream",
          "name": "stderr",
          "text": [
            "/usr/local/lib/python3.8/dist-packages/sklearn/base.py:329: UserWarning: Trying to unpickle estimator DummyRegressor from version 0.24.2 when using version 1.0.2. This might lead to breaking code or invalid results. Use at your own risk. For more info please refer to:\n",
            "https://scikit-learn.org/stable/modules/model_persistence.html#security-maintainability-limitations\n",
            "  warnings.warn(\n",
            "/usr/local/lib/python3.8/dist-packages/sklearn/base.py:329: UserWarning: Trying to unpickle estimator DecisionTreeRegressor from version 0.24.2 when using version 1.0.2. This might lead to breaking code or invalid results. Use at your own risk. For more info please refer to:\n",
            "https://scikit-learn.org/stable/modules/model_persistence.html#security-maintainability-limitations\n",
            "  warnings.warn(\n",
            "/usr/local/lib/python3.8/dist-packages/sklearn/base.py:329: UserWarning: Trying to unpickle estimator GradientBoostingRegressor from version 0.24.2 when using version 1.0.2. This might lead to breaking code or invalid results. Use at your own risk. For more info please refer to:\n",
            "https://scikit-learn.org/stable/modules/model_persistence.html#security-maintainability-limitations\n",
            "  warnings.warn(\n"
          ]
        }
      ],
      "source": [
        "import joblib \n",
        "model = joblib.load('billcal_gbr.pkl')\n"
      ]
    },
    {
      "cell_type": "code",
      "execution_count": 5,
      "id": "1495ddc1",
      "metadata": {
        "id": "1495ddc1",
        "outputId": "027e5fe5-2bdc-4ceb-b9b0-a49eeb0df2de",
        "colab": {
          "base_uri": "https://localhost:8080/"
        }
      },
      "outputs": [
        {
          "output_type": "stream",
          "name": "stdout",
          "text": [
            "[35006.68080246]\n"
          ]
        }
      ],
      "source": [
        "# cassette , 8 tonne, 800 sft, hyderabad , working 12 hours, retail\n",
        "a1 =model.predict([[1,8,800,0,12,4,8.33]])\n",
        "a1= a1 + 4000     #- mean difference with real value - 4000 that's why we are adding this  \n",
        "print (a1)"
      ]
    },
    {
      "cell_type": "code",
      "execution_count": null,
      "id": "f8471ffe",
      "metadata": {
        "id": "f8471ffe"
      },
      "outputs": [],
      "source": []
    }
  ],
  "metadata": {
    "kernelspec": {
      "display_name": "Python 3 (ipykernel)",
      "language": "python",
      "name": "python3"
    },
    "language_info": {
      "codemirror_mode": {
        "name": "ipython",
        "version": 3
      },
      "file_extension": ".py",
      "mimetype": "text/x-python",
      "name": "python",
      "nbconvert_exporter": "python",
      "pygments_lexer": "ipython3",
      "version": "3.9.7"
    },
    "colab": {
      "provenance": []
    }
  },
  "nbformat": 4,
  "nbformat_minor": 5
}