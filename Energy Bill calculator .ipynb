{
  "cells": [
    {
      "cell_type": "markdown",
      "source": [
        "# INTRODUCTION "
      ],
      "metadata": {
        "id": "6C6OXbc3iLOg"
      },
      "id": "6C6OXbc3iLOg"
    },
    {
      "cell_type": "markdown",
      "source": [
        "## With the help of Machine learning, here we have calculated the energy consumption of HVAC systems given month. Estimated calculation is with 95% accuracy as compared with real cases. "
      ],
      "metadata": {
        "id": "M3PlDQKQiLGq"
      },
      "id": "M3PlDQKQiLGq"
    },
    {
      "cell_type": "markdown",
      "id": "016b9672",
      "metadata": {
        "id": "016b9672"
      },
      "source": [
        "# Energy calculator for HVAC \n",
        "\n",
        "* Import the trained model - check the file to be attached - billcal_gbr.pkl \n",
        "* feed the values - [[ , , , , , ,]]    Instruction for feeding data is below "
      ]
    },
    {
      "cell_type": "markdown",
      "id": "9fa1790a",
      "metadata": {
        "id": "9fa1790a"
      },
      "source": [
        "### **Instruction for data to be feed in model to get energy consumption** \n",
        "\n",
        "\n",
        "#####  **Bill = gb.predict [[Type of HVAC ,Capacity of HVAC  ,size of building ,  Weather Conditions   ,  working hours  ,    buildingtype ,  consumptionrate ]]**\n",
        "\n",
        "*  **Type of HVAC** =   \n",
        "                    AHU -          0\n",
        "                    Cassette -     1\n",
        "                    Chiller -      2\n",
        "                    Ductable -     3\n",
        "                    VRF -          4\n",
        "                    Miscellenous - 5 (any HVAC like Ductable+ VRf, chiller + AHU etc. )\n",
        " \n",
        "* **Capacity of HVAC** - In Tonne (Calculate the total capacity for ex - if there are two split ac in room - 1.5tonne, 2 tonne so\n",
        "                                total will be - 1.5+2 = 3.5 tonne. )\n",
        "\n",
        "* **Size of Building** - In square per feet\n",
        "\n",
        "\n",
        "* **Weather Conditions** - check which weather condition your city falls under from - https://thearchspace.com/5-different-climate-zones-in-india-and-their-important-characteristics/ \n",
        "         Composite-  0 \n",
        "         Hot-Dry -   1\n",
        "         Warm-Humid- 2\n",
        "         Temperate - 3\n",
        "         Cold    -   4\n",
        "\n",
        "* **Working hours** - working hours of HVAC or building.\n",
        "\n",
        "*  **Building Type** - \n",
        "         Gym -       0\n",
        "         Hospital -  1\n",
        "         Hotel  -    2\n",
        "         Office -    3\n",
        "         Retail -    4 \n",
        "         School -    5 \n",
        "         other -     6\n",
        "    \n",
        "* **ConsumptionRate** -   Bill / (working hours * size of building )  = >** 2 in general**. \n",
        "\n"
      ]
    },
    {
      "cell_type": "code",
      "execution_count": 1,
      "id": "d4f2652f",
      "metadata": {
        "colab": {
          "base_uri": "https://localhost:8080/"
        },
        "id": "d4f2652f",
        "outputId": "3d715080-fda2-4b94-8037-6c3e3f07fd0c"
      },
      "outputs": [
        {
          "output_type": "stream",
          "name": "stderr",
          "text": [
            "/usr/local/lib/python3.8/dist-packages/sklearn/base.py:329: UserWarning: Trying to unpickle estimator DummyRegressor from version 0.24.2 when using version 1.0.2. This might lead to breaking code or invalid results. Use at your own risk. For more info please refer to:\n",
            "https://scikit-learn.org/stable/modules/model_persistence.html#security-maintainability-limitations\n",
            "  warnings.warn(\n",
            "/usr/local/lib/python3.8/dist-packages/sklearn/base.py:329: UserWarning: Trying to unpickle estimator DecisionTreeRegressor from version 0.24.2 when using version 1.0.2. This might lead to breaking code or invalid results. Use at your own risk. For more info please refer to:\n",
            "https://scikit-learn.org/stable/modules/model_persistence.html#security-maintainability-limitations\n",
            "  warnings.warn(\n",
            "/usr/local/lib/python3.8/dist-packages/sklearn/base.py:329: UserWarning: Trying to unpickle estimator GradientBoostingRegressor from version 0.24.2 when using version 1.0.2. This might lead to breaking code or invalid results. Use at your own risk. For more info please refer to:\n",
            "https://scikit-learn.org/stable/modules/model_persistence.html#security-maintainability-limitations\n",
            "  warnings.warn(\n"
          ]
        }
      ],
      "source": [
        "import joblib \n",
        "model = joblib.load('billcal_gbr.pkl')\n"
      ]
    },
    {
      "cell_type": "code",
      "execution_count": 14,
      "id": "1495ddc1",
      "metadata": {
        "id": "1495ddc1"
      },
      "outputs": [],
      "source": [
        "# cassette , 8 tonne, 800 sft, hyderabad , working 12 hours, retail\n",
        "a1 =model.predict([[1,8,800,0,12,4,8.33]])\n",
        "a1= a1 + 4000     #- mean difference with real value - 4000 that's why we are adding this  \n",
        "a2 = a1 * .87\n",
        "a3 = a1* .70"
      ]
    },
    {
      "cell_type": "code",
      "execution_count": 20,
      "id": "f8471ffe",
      "metadata": {
        "colab": {
          "base_uri": "https://localhost:8080/"
        },
        "id": "f8471ffe",
        "outputId": "38fad521-f4f7-4874-e77e-cc9d31aac870"
      },
      "outputs": [
        {
          "output_type": "stream",
          "name": "stdout",
          "text": [
            "Electricity bill without ZODHYA ENERGY SAVER = 35006\n",
            "Eectricity bill with ZODHYA ENERGY SAVER in range =  [ 24504 - 30455 ]\n"
          ]
        }
      ],
      "source": [
        "print (\"Electricity bill without ZODHYA Device =\", int(a1))\n",
        "\n",
        "print (\"Eectricity bill with ZODHYA Device in range =  [\", int(a3),\"-\",int(a2),']' )"
      ]
    },
    {
      "cell_type": "code",
      "source": [],
      "metadata": {
        "id": "UvGyayZEi2_e"
      },
      "id": "UvGyayZEi2_e",
      "execution_count": null,
      "outputs": []
    }
  ],
  "metadata": {
    "kernelspec": {
      "display_name": "Python 3 (ipykernel)",
      "language": "python",
      "name": "python3"
    },
    "language_info": {
      "codemirror_mode": {
        "name": "ipython",
        "version": 3
      },
      "file_extension": ".py",
      "mimetype": "text/x-python",
      "name": "python",
      "nbconvert_exporter": "python",
      "pygments_lexer": "ipython3",
      "version": "3.9.7"
    },
    "colab": {
      "provenance": []
    }
  },
  "nbformat": 4,
  "nbformat_minor": 5
}